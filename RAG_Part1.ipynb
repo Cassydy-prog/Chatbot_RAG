{
 "cells": [
  {
   "cell_type": "markdown",
   "id": "c1455dac",
   "metadata": {},
   "source": [
    "# Scraping & Cleaning"
   ]
  },
  {
   "cell_type": "code",
   "execution_count": 6,
   "id": "5b9ec82b",
   "metadata": {},
   "outputs": [],
   "source": [
    "links = [\"https://www.aivancity.ai/propos-daivancity\",\n",
    "         \"https://www.aivancity.ai/edito\",\n",
    "         \"https://www.aivancity.ai/societe-mission-et-engagements\",\n",
    "         \"https://www.aivancity.ai/le-board-aivancity\",\n",
    "         \"https://www.aivancity.ai/lequipe-aivancity\",\n",
    "         \"https://www.aivancity.ai/labels-et-reconnaissances\",\n",
    "         \"https://www.aivancity.ai/se-reperer-parmi-les-labels-et-reconnaissances\",\n",
    "         \"https://www.aivancity.ai/partenaires\",\n",
    "         \"https://www.aivancity.ai/notre-reseau\",\n",
    "         \"https://www.aivancity.ai/le-fonds-de-dotation-un-outil-innovant-pour-financer-le-mecenat\",\n",
    "         \"https://www.aivancity.ai/etudiant/programme/programme-grande-ecole\",\n",
    "         \"https://www.aivancity.ai/etudiant/programme/bachelor-science-intelligence-artificielle-appliquee\",\n",
    "         \"https://www.aivancity.ai/etudiant/programme/msc-data-engineering-cloud-computing\",\n",
    "         \"https://www.aivancity.ai/etudiant/programme/master-science-data-management\",\n",
    "         \"https://www.aivancity.ai/etudiant-et-professionnel/programme/master-science-artificial-intelligence-business\",\n",
    "         \"https://www.aivancity.ai/etudiant-et-professionnel/programme/msc-intelligences-artificielles-generatives\",\n",
    "         \"https://www.aivancity.ai/certificats\",\n",
    "         \"https://www.aivancity.ai/programmes-courts\",\n",
    "         \"https://www.aivancity.ai/offres-pour-les-entreprises-intra\",\n",
    "         \"https://www.aivancity.ai/financer-votre-formation-professionnelle\",\n",
    "         \"https://www.aivancity.ai/une-offre-de-formation-100-online-aivancityx\",\n",
    "         \"https://www.aivancity.ai/summer-school\",\n",
    "         \"https://www.aivancity.ai/hybridation\",\n",
    "         \"https://www.aivancity.ai/la-clinique-de-lintelligence-artificielle-plus-quun-lieu-un-concept-pedagogique-cree-par-aivancity\",\n",
    "         \"https://www.aivancity.ai/boarding-aivancity\",\n",
    "         \"https://www.aivancity.ai/campus-de-paris-villejuif\",\n",
    "         \"https://www.aivancity.ai/campus-de-nice\",\n",
    "         \"https://www.aivancity.ai/international\",\n",
    "         \"https://www.aivancity.ai/bourses-et-financement\",\n",
    "         \"https://www.aivancity.ai/handicap-et-accessibilite\",\n",
    "         \"https://www.aivancity.ai/corps-professoral\",\n",
    "         \"https://www.aivancity.ai/axes-et-projets-de-recherche\",\n",
    "         \"https://www.aivancity.ai/chaires-de-recherche-et-dinnovation\",\n",
    "         \"https://www.aivancity.ai/knowledge\",\n",
    "         \"https://www.aivancity.ai/projet-adoptia-porte-par-aivancity-laureat-de-2e-vague-de-lami-cma-france-2030\",\n",
    "         \"https://www.aivancity.ai/la-garantie-de-mise-jour-du-diplome\",\n",
    "         \"https://www.aivancity.ai/les-metiers-de-lintelligence-artificielle-ia-et-de-la-data\",\n",
    "         \"https://www.aivancity.ai/le-stage-en-entreprise-un-pilier-de-la-pedagogie-daivancity\",\n",
    "         \"https://www.aivancity.ai/lalternance-un-passeport-pour-lemploi-et-un-outil-de-recrutement\",\n",
    "         \"https://www.aivancity.ai/la-mission-citoyenne\",\n",
    "         \"https://www.aivancity.ai/actualites\",\n",
    "         \"https://www.aivancity.ai/evenements\",\n",
    "         \"https://www.aivancity.ai/rencontrez-nous\"\n",
    "]"
   ]
  },
  {
   "cell_type": "code",
   "execution_count": 10,
   "id": "f7b37aa3",
   "metadata": {},
   "outputs": [
    {
     "name": "stdout",
     "output_type": "stream",
     "text": [
      "[OK] Contenu ajouté pour https://www.aivancity.ai/propos-daivancity\n",
      "[OK] Contenu ajouté pour https://www.aivancity.ai/edito\n",
      "[OK] Contenu ajouté pour https://www.aivancity.ai/societe-mission-et-engagements\n",
      "[OK] Contenu ajouté pour https://www.aivancity.ai/le-board-aivancity\n",
      "[OK] Contenu ajouté pour https://www.aivancity.ai/lequipe-aivancity\n",
      "[OK] Contenu ajouté pour https://www.aivancity.ai/labels-et-reconnaissances\n",
      "[OK] Contenu ajouté pour https://www.aivancity.ai/se-reperer-parmi-les-labels-et-reconnaissances\n",
      "[OK] Contenu ajouté pour https://www.aivancity.ai/partenaires\n",
      "[OK] Contenu ajouté pour https://www.aivancity.ai/notre-reseau\n",
      "[OK] Contenu ajouté pour https://www.aivancity.ai/le-fonds-de-dotation-un-outil-innovant-pour-financer-le-mecenat\n",
      "[OK] Contenu ajouté pour https://www.aivancity.ai/etudiant/programme/programme-grande-ecole\n",
      "[OK] Contenu ajouté pour https://www.aivancity.ai/etudiant/programme/bachelor-science-intelligence-artificielle-appliquee\n",
      "[OK] Contenu ajouté pour https://www.aivancity.ai/etudiant/programme/msc-data-engineering-cloud-computing\n",
      "[OK] Contenu ajouté pour https://www.aivancity.ai/etudiant/programme/master-science-data-management\n",
      "[OK] Contenu ajouté pour https://www.aivancity.ai/etudiant-et-professionnel/programme/master-science-artificial-intelligence-business\n",
      "[OK] Contenu ajouté pour https://www.aivancity.ai/etudiant-et-professionnel/programme/msc-intelligences-artificielles-generatives\n",
      "[OK] Contenu ajouté pour https://www.aivancity.ai/certificats\n",
      "[OK] Contenu ajouté pour https://www.aivancity.ai/programmes-courts\n",
      "[OK] Contenu ajouté pour https://www.aivancity.ai/offres-pour-les-entreprises-intra\n",
      "[OK] Contenu ajouté pour https://www.aivancity.ai/financer-votre-formation-professionnelle\n",
      "[OK] Contenu ajouté pour https://www.aivancity.ai/une-offre-de-formation-100-online-aivancityx\n",
      "[OK] Contenu ajouté pour https://www.aivancity.ai/summer-school\n",
      "[OK] Contenu ajouté pour https://www.aivancity.ai/hybridation\n",
      "[OK] Contenu ajouté pour https://www.aivancity.ai/la-clinique-de-lintelligence-artificielle-plus-quun-lieu-un-concept-pedagogique-cree-par-aivancity\n",
      "[OK] Contenu ajouté pour https://www.aivancity.ai/boarding-aivancity\n",
      "[OK] Contenu ajouté pour https://www.aivancity.ai/campus-de-paris-villejuif\n",
      "[OK] Contenu ajouté pour https://www.aivancity.ai/campus-de-nice\n",
      "[OK] Contenu ajouté pour https://www.aivancity.ai/international\n",
      "[OK] Contenu ajouté pour https://www.aivancity.ai/bourses-et-financement\n",
      "[OK] Contenu ajouté pour https://www.aivancity.ai/handicap-et-accessibilite\n",
      "[OK] Contenu ajouté pour https://www.aivancity.ai/corps-professoral\n",
      "[OK] Contenu ajouté pour https://www.aivancity.ai/axes-et-projets-de-recherche\n",
      "[OK] Contenu ajouté pour https://www.aivancity.ai/chaires-de-recherche-et-dinnovation\n",
      "[OK] Contenu ajouté pour https://www.aivancity.ai/knowledge\n",
      "[OK] Contenu ajouté pour https://www.aivancity.ai/projet-adoptia-porte-par-aivancity-laureat-de-2e-vague-de-lami-cma-france-2030\n",
      "[OK] Contenu ajouté pour https://www.aivancity.ai/la-garantie-de-mise-jour-du-diplome\n",
      "[OK] Contenu ajouté pour https://www.aivancity.ai/les-metiers-de-lintelligence-artificielle-ia-et-de-la-data\n",
      "[OK] Contenu ajouté pour https://www.aivancity.ai/le-stage-en-entreprise-un-pilier-de-la-pedagogie-daivancity\n",
      "[OK] Contenu ajouté pour https://www.aivancity.ai/lalternance-un-passeport-pour-lemploi-et-un-outil-de-recrutement\n",
      "[OK] Contenu ajouté pour https://www.aivancity.ai/la-mission-citoyenne\n",
      "[OK] Contenu ajouté pour https://www.aivancity.ai/actualites\n",
      "[OK] Contenu ajouté pour https://www.aivancity.ai/evenements\n",
      "[OK] Contenu ajouté pour https://www.aivancity.ai/rencontrez-nous\n"
     ]
    }
   ],
   "source": [
    "from bs4 import BeautifulSoup\n",
    "import requests\n",
    "import trafilatura\n",
    "\n",
    "def scrape_filtered_html(url):\n",
    "    try:\n",
    "        response = requests.get(url, timeout=10)\n",
    "        response.raise_for_status()\n",
    "        soup = BeautifulSoup(response.text, \"html.parser\")\n",
    "\n",
    "        # Exemple : suppression d'éléments non pertinents (header, footer, nav, aside…)\n",
    "        for tag in soup([\"header\", \"footer\", \"nav\", \"aside\", \"script\", \"style\"]):\n",
    "            tag.decompose()\n",
    "\n",
    "        filtered_html = str(soup)\n",
    "        texte = trafilatura.extract(filtered_html)\n",
    "        if texte:\n",
    "            return f\"\\n{texte}\\n\"\n",
    "        else:\n",
    "            print(f\"[INFO] Aucun contenu utile trouvé pour {url} (filtré)\")\n",
    "            return \"\"\n",
    "    except Exception as e:\n",
    "        print(f\"[ERREUR] {url} : {e}\")\n",
    "        return \"\"\n",
    "\n",
    "\n",
    "# Exemple avec une ou plusieurs URLs\n",
    "\n",
    "with open(\"corpus_ecole.txt\", \"w\", encoding=\"utf-8\") as f:\n",
    "    for url in links:\n",
    "        texte = scrape_filtered_html(url)\n",
    "        f.write(texte)\n",
    "        print(f\"[OK] Contenu ajouté pour {url}\")\n"
   ]
  },
  {
   "cell_type": "code",
   "execution_count": 6,
   "id": "653894f6",
   "metadata": {},
   "outputs": [
    {
     "name": "stdout",
     "output_type": "stream",
     "text": [
      "Collecting schedule\n",
      "  Downloading schedule-1.2.2-py3-none-any.whl.metadata (3.8 kB)\n",
      "Downloading schedule-1.2.2-py3-none-any.whl (12 kB)\n",
      "Installing collected packages: schedule\n",
      "Successfully installed schedule-1.2.2\n",
      "Note: you may need to restart the kernel to use updated packages.\n"
     ]
    }
   ],
   "source": [
    "pip install schedule"
   ]
  },
  {
   "cell_type": "markdown",
   "id": "274c63ad",
   "metadata": {},
   "source": [
    "# Vectorisation "
   ]
  },
  {
   "cell_type": "code",
   "execution_count": 14,
   "id": "a9b3f152",
   "metadata": {},
   "outputs": [],
   "source": [
    "#pip install sentence-transformers"
   ]
  },
  {
   "cell_type": "code",
   "execution_count": 17,
   "id": "bf2b9f1f",
   "metadata": {},
   "outputs": [],
   "source": [
    "#pip install tf-keras"
   ]
  },
  {
   "cell_type": "code",
   "execution_count": 19,
   "id": "61909eda",
   "metadata": {},
   "outputs": [],
   "source": [
    "#pip install faiss-cpu"
   ]
  },
  {
   "cell_type": "code",
   "execution_count": 20,
   "id": "b76ccf96",
   "metadata": {},
   "outputs": [],
   "source": [
    "from langchain.schema import Document\n",
    "from langchain.text_splitter import RecursiveCharacterTextSplitter\n",
    "from langchain.vectorstores import FAISS\n",
    "from langchain.embeddings import HuggingFaceEmbeddings\n",
    "\n",
    "# Charger le contenu du fichier texte\n",
    "with open(\"corpus_ecole.txt\", \"r\", encoding=\"utf-8\") as f:\n",
    "    texte = f.read()\n",
    "\n",
    "# Créer un document LangChain (il attend une liste, ici un seul Document)\n",
    "documents = [Document(page_content=texte)]\n",
    "\n",
    "# Découpage en chunks\n",
    "splitter = RecursiveCharacterTextSplitter(chunk_size=500, chunk_overlap=50)\n",
    "docs = splitter.split_documents(documents)\n",
    "\n",
    "# Embeddings avec le modèle HuggingFace\n",
    "embedding_model = HuggingFaceEmbeddings(model_name=\"BAAI/bge-m3\")\n",
    "\n",
    "# Création du vectorstore FAISS\n",
    "vectorstore = FAISS.from_documents(docs, embedding_model)\n",
    "\n",
    "# Sauvegarde locale\n",
    "vectorstore.save_local(\"vectorstore_ecole\")"
   ]
  },
  {
   "cell_type": "markdown",
   "id": "8783fdbe",
   "metadata": {},
   "source": [
    "# Retriever"
   ]
  },
  {
   "cell_type": "code",
   "execution_count": null,
   "id": "2dd5e361",
   "metadata": {},
   "outputs": [
    {
     "name": "stderr",
     "output_type": "stream",
     "text": [
      "C:\\Users\\nongo\\AppData\\Local\\Temp\\ipykernel_53476\\249307802.py:5: LangChainDeprecationWarning: The class `HuggingFaceEmbeddings` was deprecated in LangChain 0.2.2 and will be removed in 1.0. An updated version of the class exists in the :class:`~langchain-huggingface package and should be used instead. To use it run `pip install -U :class:`~langchain-huggingface` and import as `from :class:`~langchain_huggingface import HuggingFaceEmbeddings``.\n",
      "  embedding_model = HuggingFaceEmbeddings(model_name=\"BAAI/bge-m3\")\n",
      "c:\\Users\\nongo\\anaconda3\\envs\\env\\lib\\site-packages\\tqdm\\auto.py:21: TqdmWarning: IProgress not found. Please update jupyter and ipywidgets. See https://ipywidgets.readthedocs.io/en/stable/user_install.html\n",
      "  from .autonotebook import tqdm as notebook_tqdm\n"
     ]
    },
    {
     "name": "stdout",
     "output_type": "stream",
     "text": [
      "WARNING:tensorflow:From c:\\Users\\nongo\\anaconda3\\envs\\env\\lib\\site-packages\\tf_keras\\src\\losses.py:2976: The name tf.losses.sparse_softmax_cross_entropy is deprecated. Please use tf.compat.v1.losses.sparse_softmax_cross_entropy instead.\n",
      "\n",
      "Tawhid Chtioui, président-fondateur d’aivancity, y explique pourquoi l’école mise sur le triptyque : IA, business et éthique pour former aux métiers de demain...\n",
      "1er établissement d’enseignement supérieur sous statut d’entreprise à mission\n",
      "aivancity reçoit un avis de conformité portant sur l’exécution des objectifs sociaux et environnementaux lié à son statut de société à mission.\n",
      "aivancity Paris-Cachan était l’invitée de Sqool TV\n",
      "International\n",
      "Des perspectives internationales\n",
      "L’ambition d’aivancity est claire\n",
      "- Ouvrir aivancity à tous les étudiants internationaux, quelle que soit leur origine, et offrir aux plus brillants le soutien financier du fonds de dotation,\n",
      "- Fournir aux étudiants internationaux une expérience unique dans le domaine de l’IA et de la Data, encadrés par des professeurs qui, pour la plupart, développent eux-mêmes des projets entrepreneuriaux,\n",
      "dans le tissu local : activités spécifiques, santé, lieux d’études, appel à projets. L’arrivée d’aivancity doit permettre à la population villejuifoise de bénéficier d’une culture scientifique locale grâce à un accès facilité à la connaissance scientifique produite dans la ville, à ceux qui la produisent et aux infrastructures de l’école\n"
     ]
    }
   ],
   "source": [
    "from langchain.vectorstores import FAISS\n",
    "from langchain.embeddings import HuggingFaceEmbeddings\n",
    "\n",
    "# Modèle d'embedding\n",
    "embedding_model = HuggingFaceEmbeddings(model_name=\"BAAI/bge-m3\")\n",
    "\n",
    "# Chargement en acceptant la désérialisation\n",
    "vectorstore = FAISS.load_local(\n",
    "    \"vectorstore_ecole\",\n",
    "    embedding_model,\n",
    "    allow_dangerous_deserialization=True \n",
    ")\n",
    "\n",
    "# vectorstore est le retriever ici plus précisément FAISS\n",
    "\n",
    "# Requête d'exemple\n",
    "question = \"Quelle est la mission d’Aivancity ?\"\n",
    "docs_retrieved = vectorstore.similarity_search(question, k=3)\n",
    "\n",
    "for doc in docs_retrieved:\n",
    "    print(doc.page_content)\n"
   ]
  },
  {
   "cell_type": "markdown",
   "id": "8b84d5bd",
   "metadata": {},
   "source": [
    "# LLM integration"
   ]
  },
  {
   "cell_type": "code",
   "execution_count": 25,
   "id": "4c058240",
   "metadata": {},
   "outputs": [],
   "source": [
    "#%pip install langchain-groq --quiet"
   ]
  },
  {
   "cell_type": "code",
   "execution_count": null,
   "id": "3c504907",
   "metadata": {},
   "outputs": [],
   "source": [
    "retriever = vectorstore.as_retriever(search_type=\"similarity\", search_kwargs={\"k\": 3})\n",
    "#%pip install langchain-groq --quiet\n",
    "\n",
    "from langchain_groq import ChatGroq\n",
    "\n",
    "llm = ChatGroq(model=\"llama3-8b-8192\")"
   ]
  },
  {
   "cell_type": "code",
   "execution_count": 3,
   "id": "b38eac22",
   "metadata": {},
   "outputs": [],
   "source": [
    "from langchain.chains import RetrievalQA\n",
    "\n",
    "rag_chain = RetrievalQA.from_chain_type(\n",
    "    llm=llm,\n",
    "    retriever=retriever,\n",
    "    return_source_documents=False\n",
    ")"
   ]
  },
  {
   "cell_type": "code",
   "execution_count": 5,
   "id": "27d85356",
   "metadata": {},
   "outputs": [
    {
     "name": "stdout",
     "output_type": "stream",
     "text": [
      "Réponse générée : La Clinique de l’IA est un service civique qui permet aux étudiants et aux entreprises de travailler ensemble sur des projets liés à l'intelligence artificielle, machine learning et science des données. Les étudiants, encadrés par des professeurs, réalisent ces travaux \"pro bono\" au service de l'intérêt général.\n"
     ]
    }
   ],
   "source": [
    "query = \"Qu'est-ce que la clinic de l'IA ?\"\n",
    "result = rag_chain(query)\n",
    "\n",
    "print(\"Réponse générée :\", result['result'])"
   ]
  },
  {
   "cell_type": "code",
   "execution_count": null,
   "id": "cef9fb25",
   "metadata": {},
   "outputs": [],
   "source": [
    "#La base de données est encore très limitée, il faudrait y insérer  des documents comme le règlement intérieur de l'école,\n",
    "# le guide de l'étudiant, les conditions d'admission, etc. pour améliorer la pertinence des réponses.\n",
    "# L'intégration de ces documents permettrait d'enrichir le corpus et d'améliorer\n",
    "# Document décrivant les procédures administratives usuelles de l'école, les conditions d'admission, le règlement intérieur, etc.\n",
    "\n",
    "# Intégrer un moyen de réponse intelligent où quand par exemple l'utilisateur demande quel programme puis-je intégrer à Aivancity : faire le liste déroulante des programmes et des prérequis nécessaires pour ces programmes\n",
    "# Savoir aussi quand rediriger l'étudiant vers le site de l'école ou un professaionnel pour des questions plus spécifiques. "
   ]
  }
 ],
 "metadata": {
  "kernelspec": {
   "display_name": "env",
   "language": "python",
   "name": "python3"
  },
  "language_info": {
   "codemirror_mode": {
    "name": "ipython",
    "version": 3
   },
   "file_extension": ".py",
   "mimetype": "text/x-python",
   "name": "python",
   "nbconvert_exporter": "python",
   "pygments_lexer": "ipython3",
   "version": "3.9.21"
  }
 },
 "nbformat": 4,
 "nbformat_minor": 5
}
